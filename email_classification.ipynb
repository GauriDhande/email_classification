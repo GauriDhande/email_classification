{
 "cells": [
  {
   "cell_type": "code",
   "execution_count": 1,
   "metadata": {},
   "outputs": [
    {
     "name": "stderr",
     "output_type": "stream",
     "text": [
      "/home/gauri/.local/lib/python2.7/site-packages/pandas/core/computation/__init__.py:18: UserWarning: The installed version of numexpr 2.4.3 is not supported in pandas and will be not be used\n",
      "The minimum supported version is 2.4.6\n",
      "\n",
      "  ver=ver, min_ver=_MIN_NUMEXPR_VERSION), UserWarning)\n"
     ]
    }
   ],
   "source": [
    "#importing the libraries\n",
    "import pandas as pd\n",
    "import numpy as np"
   ]
  },
  {
   "cell_type": "code",
   "execution_count": 2,
   "metadata": {
    "collapsed": true
   },
   "outputs": [],
   "source": [
    "#importing the csv file\n",
    "df = pd.read_csv('dataset_copy.csv')"
   ]
  },
  {
   "cell_type": "code",
   "execution_count": 3,
   "metadata": {
    "collapsed": true
   },
   "outputs": [],
   "source": [
    "#extracting columns to variables\n",
    "out = df['v1']\n",
    "text = df['v2']"
   ]
  },
  {
   "cell_type": "code",
   "execution_count": 5,
   "metadata": {
    "collapsed": true
   },
   "outputs": [],
   "source": [
    "label = []\n",
    "for val in out:\n",
    "    if(val == 'professional'):\n",
    "        label.append(1)\n",
    "    else:\n",
    "        label.append(0)"
   ]
  },
  {
   "cell_type": "code",
   "execution_count": 6,
   "metadata": {
    "collapsed": true
   },
   "outputs": [],
   "source": [
    "#convert the lables and test into arrays\n",
    "label = np.array(label)\n",
    "text = np.array(text)"
   ]
  },
  {
   "cell_type": "code",
   "execution_count": 7,
   "metadata": {},
   "outputs": [
    {
     "name": "stderr",
     "output_type": "stream",
     "text": [
      "/home/gauri/.local/lib/python2.7/site-packages/sklearn/cross_validation.py:44: DeprecationWarning: This module was deprecated in version 0.18 in favor of the model_selection module into which all the refactored classes and functions are moved. Also note that the interface of the new CV iterators are different from that of this module. This module will be removed in 0.20.\n",
      "  \"This module will be removed in 0.20.\", DeprecationWarning)\n"
     ]
    }
   ],
   "source": [
    "#importing important library documents\n",
    "from sklearn.utils import shuffle\n",
    "from sklearn.cross_validation import train_test_split"
   ]
  },
  {
   "cell_type": "code",
   "execution_count": 8,
   "metadata": {
    "collapsed": true
   },
   "outputs": [],
   "source": [
    "#empty lists\n",
    "x_train = []\n",
    "x_test = []\n",
    "y_train = []\n",
    "y_test = []"
   ]
  },
  {
   "cell_type": "code",
   "execution_count": 9,
   "metadata": {
    "collapsed": true
   },
   "outputs": [],
   "source": [
    "#spliting the data into training and testing\n",
    "text, label = shuffle(text,label)\n",
    "x_train, x_test, y_train, y_test = train_test_split(text,label,train_size=0.9)"
   ]
  },
  {
   "cell_type": "code",
   "execution_count": 10,
   "metadata": {
    "collapsed": true
   },
   "outputs": [],
   "source": [
    "#converting the train n test into arrays\n",
    "x_train = np.array(x_train)\n",
    "x_test = np.array(x_test)\n",
    "y_train = np.array(y_train)\n",
    "y_test = np.array(y_test)"
   ]
  },
  {
   "cell_type": "code",
   "execution_count": 11,
   "metadata": {
    "collapsed": true
   },
   "outputs": [],
   "source": [
    "#Tokeninzing the tarining and data and fitting the data\n",
    "from sklearn.feature_extraction.text import CountVectorizer, TfidfTransformer"
   ]
  },
  {
   "cell_type": "markdown",
   "metadata": {},
   "source": [
    "CountVectorizer is used to convert a collection of text documents to a matrix of token counts. There is a high probability that the words like 'a', 'an', 'the' etc will occur often. Thus, its a possibility that model might concentrate on these words intead of other important words. TfidfTransformer stands for term frequency and inverse document frequency. It is used to inverse the frequncy of repeatedly occuring words. "
   ]
  },
  {
   "cell_type": "code",
   "execution_count": 12,
   "metadata": {},
   "outputs": [
    {
     "name": "stdout",
     "output_type": "stream",
     "text": [
      "(270, 5189)\n"
     ]
    },
    {
     "name": "stderr",
     "output_type": "stream",
     "text": [
      "/home/gauri/.local/lib/python2.7/site-packages/sklearn/feature_extraction/text.py:1059: FutureWarning: Conversion of the second argument of issubdtype from `float` to `np.floating` is deprecated. In future, it will be treated as `np.float64 == np.dtype(float).type`.\n",
      "  if hasattr(X, 'dtype') and np.issubdtype(X.dtype, np.float):\n"
     ]
    }
   ],
   "source": [
    "count_vect = CountVectorizer(decode_error='ignore')\n",
    "x_train_count = count_vect.fit_transform(x_train)\n",
    "tfidf_trans = TfidfTransformer()\n",
    "x_train_tfidf = tfidf_trans.fit_transform(x_train_count).toarray()\n",
    "print(x_train_tfidf.shape)"
   ]
  },
  {
   "cell_type": "code",
   "execution_count": 13,
   "metadata": {},
   "outputs": [
    {
     "name": "stdout",
     "output_type": "stream",
     "text": [
      "(30, 5189)\n"
     ]
    }
   ],
   "source": [
    "x_test_count = count_vect.transform(x_test)\n",
    "x_test_tfidf = tfidf_trans.transform(x_test_count).toarray()\n",
    "print(x_test_tfidf.shape) "
   ]
  },
  {
   "cell_type": "code",
   "execution_count": 14,
   "metadata": {},
   "outputs": [
    {
     "name": "stderr",
     "output_type": "stream",
     "text": [
      "Using TensorFlow backend.\n"
     ]
    }
   ],
   "source": [
    "#iimporting the keras model\n",
    "from keras.models import Sequential #type of model\n",
    "from keras.layers import Dense #used to create hidden layers\n",
    "from keras.layers import Dropout"
   ]
  },
  {
   "cell_type": "code",
   "execution_count": 15,
   "metadata": {
    "collapsed": true
   },
   "outputs": [],
   "source": [
    "# Create classifier here\n",
    "#Initialising the ANN\n",
    "classifier = Sequential() # classifier is as object"
   ]
  },
  {
   "cell_type": "code",
   "execution_count": 24,
   "metadata": {},
   "outputs": [
    {
     "name": "stderr",
     "output_type": "stream",
     "text": [
      "/home/gauri/.local/lib/python2.7/site-packages/ipykernel_launcher.py:3: UserWarning: Update your `Dense` call to the Keras 2 API: `Dense(kernel_initializer=\"uniform\", activation=\"relu\", input_dim=5189, units=6)`\n",
      "  This is separate from the ipykernel package so we can avoid doing imports until\n",
      "/home/gauri/.local/lib/python2.7/site-packages/ipykernel_launcher.py:6: UserWarning: Update your `Dense` call to the Keras 2 API: `Dense(units=6, activation=\"relu\", kernel_initializer=\"uniform\")`\n",
      "  \n",
      "/home/gauri/.local/lib/python2.7/site-packages/ipykernel_launcher.py:9: UserWarning: Update your `Dense` call to the Keras 2 API: `Dense(units=1, activation=\"sigmoid\", kernel_initializer=\"uniform\")`\n",
      "  if __name__ == '__main__':\n"
     ]
    },
    {
     "name": "stdout",
     "output_type": "stream",
     "text": [
      "Epoch 1/50\n",
      "270/270 [==============================] - 0s - loss: 0.6875 - acc: 0.8741     \n",
      "Epoch 2/50\n",
      "270/270 [==============================] - 0s - loss: 0.6739 - acc: 0.8778     \n",
      "Epoch 3/50\n",
      "270/270 [==============================] - 0s - loss: 0.6558 - acc: 0.8778     \n",
      "Epoch 4/50\n",
      "270/270 [==============================] - 0s - loss: 0.6282 - acc: 0.8778     \n",
      "Epoch 5/50\n",
      "270/270 [==============================] - 0s - loss: 0.5959 - acc: 0.8778     \n",
      "Epoch 6/50\n",
      "270/270 [==============================] - 0s - loss: 0.5517 - acc: 0.8778     \n",
      "Epoch 7/50\n",
      "270/270 [==============================] - 0s - loss: 0.5048 - acc: 0.8778     \n",
      "Epoch 8/50\n",
      "270/270 [==============================] - 0s - loss: 0.4599 - acc: 0.8778     \n",
      "Epoch 9/50\n",
      "270/270 [==============================] - 0s - loss: 0.4214 - acc: 0.8778     \n",
      "Epoch 10/50\n",
      "270/270 [==============================] - 0s - loss: 0.3870 - acc: 0.8778     \n",
      "Epoch 11/50\n",
      "270/270 [==============================] - 0s - loss: 0.3663 - acc: 0.8778     \n",
      "Epoch 12/50\n",
      "270/270 [==============================] - 0s - loss: 0.3568 - acc: 0.8778     \n",
      "Epoch 13/50\n",
      "270/270 [==============================] - 0s - loss: 0.3410 - acc: 0.8778     - ETA: 0s - loss: 0.3388 - acc: 0.8\n",
      "Epoch 14/50\n",
      "270/270 [==============================] - 0s - loss: 0.3300 - acc: 0.8778     \n",
      "Epoch 15/50\n",
      "270/270 [==============================] - 0s - loss: 0.3360 - acc: 0.8778     \n",
      "Epoch 16/50\n",
      "270/270 [==============================] - 0s - loss: 0.3270 - acc: 0.8778     \n",
      "Epoch 17/50\n",
      "270/270 [==============================] - 0s - loss: 0.2998 - acc: 0.8778     \n",
      "Epoch 18/50\n",
      "270/270 [==============================] - 0s - loss: 0.3205 - acc: 0.8778     \n",
      "Epoch 19/50\n",
      "270/270 [==============================] - 0s - loss: 0.3360 - acc: 0.8778     \n",
      "Epoch 20/50\n",
      "270/270 [==============================] - 0s - loss: 0.3183 - acc: 0.8778     \n",
      "Epoch 21/50\n",
      "270/270 [==============================] - 0s - loss: 0.3114 - acc: 0.8778     \n",
      "Epoch 22/50\n",
      "270/270 [==============================] - 0s - loss: 0.3097 - acc: 0.8778     \n",
      "Epoch 23/50\n",
      "270/270 [==============================] - 0s - loss: 0.3016 - acc: 0.8778     \n",
      "Epoch 24/50\n",
      "270/270 [==============================] - 0s - loss: 0.3005 - acc: 0.8778     \n",
      "Epoch 25/50\n",
      "270/270 [==============================] - 0s - loss: 0.2982 - acc: 0.8778     \n",
      "Epoch 26/50\n",
      "270/270 [==============================] - 0s - loss: 0.2995 - acc: 0.8778     \n",
      "Epoch 27/50\n",
      "270/270 [==============================] - 0s - loss: 0.2859 - acc: 0.8778     \n",
      "Epoch 28/50\n",
      "270/270 [==============================] - 0s - loss: 0.2863 - acc: 0.8778     \n",
      "Epoch 29/50\n",
      "270/270 [==============================] - 0s - loss: 0.2770 - acc: 0.8778     \n",
      "Epoch 30/50\n",
      "270/270 [==============================] - 0s - loss: 0.2769 - acc: 0.8778     \n",
      "Epoch 31/50\n",
      "270/270 [==============================] - 0s - loss: 0.2844 - acc: 0.8778     \n",
      "Epoch 32/50\n",
      "270/270 [==============================] - 0s - loss: 0.2625 - acc: 0.8778     \n",
      "Epoch 33/50\n",
      "270/270 [==============================] - 0s - loss: 0.2683 - acc: 0.8778     \n",
      "Epoch 34/50\n",
      "270/270 [==============================] - 0s - loss: 0.2728 - acc: 0.8778     \n",
      "Epoch 35/50\n",
      "270/270 [==============================] - 0s - loss: 0.2607 - acc: 0.8778     \n",
      "Epoch 36/50\n",
      "270/270 [==============================] - 0s - loss: 0.2584 - acc: 0.8778     \n",
      "Epoch 37/50\n",
      "270/270 [==============================] - 0s - loss: 0.2470 - acc: 0.8778     \n",
      "Epoch 38/50\n",
      "270/270 [==============================] - ETA: 0s - loss: 0.2429 - acc: 0.875 - 0s - loss: 0.2435 - acc: 0.8778     \n",
      "Epoch 39/50\n",
      "270/270 [==============================] - 0s - loss: 0.2363 - acc: 0.8778     \n",
      "Epoch 40/50\n",
      "270/270 [==============================] - 0s - loss: 0.2286 - acc: 0.8778     \n",
      "Epoch 41/50\n",
      "270/270 [==============================] - 0s - loss: 0.2274 - acc: 0.8778     \n",
      "Epoch 42/50\n",
      "270/270 [==============================] - 0s - loss: 0.2131 - acc: 0.8778     \n",
      "Epoch 43/50\n",
      "270/270 [==============================] - 0s - loss: 0.2243 - acc: 0.8778     \n",
      "Epoch 44/50\n",
      "270/270 [==============================] - 0s - loss: 0.2088 - acc: 0.8778     \n",
      "Epoch 45/50\n",
      "270/270 [==============================] - 0s - loss: 0.2029 - acc: 0.8778     \n",
      "Epoch 46/50\n",
      "270/270 [==============================] - 0s - loss: 0.1886 - acc: 0.8778     \n",
      "Epoch 47/50\n",
      "270/270 [==============================] - 0s - loss: 0.1826 - acc: 0.8778     \n",
      "Epoch 48/50\n",
      "270/270 [==============================] - 0s - loss: 0.1731 - acc: 0.8778     \n",
      "Epoch 49/50\n",
      "270/270 [==============================] - 0s - loss: 0.1717 - acc: 0.8778     \n",
      "Epoch 50/50\n",
      "270/270 [==============================] - 0s - loss: 0.1705 - acc: 0.8778     \n"
     ]
    }
   ],
   "source": [
    "#Adding the hidden layers\n",
    "#Note: shuffuling may change the dimensions of input arrays\n",
    "classifier.add(Dense(output_dim = 6, init = 'uniform', activation = 'relu', input_dim = x_train_tfidf.shape[1]))\n",
    "classifier.add(Dropout(rate = 0.1))\n",
    "#Adding Second Hidden Layer\n",
    "classifier.add(Dense(output_dim = 6, init = 'uniform', activation = 'relu'))\n",
    "classifier.add(Dropout(rate = 0.1))\n",
    "#Adding final/output layer\n",
    "classifier.add(Dense(output_dim = 1, init = 'uniform', activation = 'sigmoid'))\n",
    "#Compiling the ANN\n",
    "classifier.compile(optimizer = 'adam', loss = 'binary_crossentropy', metrics = ['accuracy'])\n",
    "#fitting ANN to trainig set\n",
    "hist = classifier.fit(x_train_tfidf, y_train, batch_size = 10, epochs = 50)"
   ]
  },
  {
   "cell_type": "code",
   "execution_count": 17,
   "metadata": {},
   "outputs": [
    {
     "name": "stdout",
     "output_type": "stream",
     "text": [
      "[[0.9998498 ]\n",
      " [0.99921024]\n",
      " [0.9838223 ]\n",
      " [0.886614  ]\n",
      " [0.9999616 ]\n",
      " [0.99940264]\n",
      " [0.99970144]\n",
      " [0.9999641 ]\n",
      " [0.9954873 ]\n",
      " [0.98762786]\n",
      " [0.9986052 ]\n",
      " [0.9995296 ]\n",
      " [0.99919754]\n",
      " [0.9983999 ]\n",
      " [0.99432606]\n",
      " [0.968519  ]\n",
      " [0.5506767 ]\n",
      " [0.9991328 ]\n",
      " [0.98797464]\n",
      " [0.99777824]\n",
      " [0.73122275]\n",
      " [0.9989567 ]\n",
      " [0.9986381 ]\n",
      " [0.99972004]\n",
      " [0.9404081 ]\n",
      " [0.99977034]\n",
      " [0.9960288 ]\n",
      " [0.9999728 ]\n",
      " [0.9971328 ]\n",
      " [0.99088216]]\n"
     ]
    }
   ],
   "source": [
    "y_pred = classifier.predict(x_test_tfidf)\n",
    "print(y_pred)"
   ]
  },
  {
   "cell_type": "code",
   "execution_count": 25,
   "metadata": {},
   "outputs": [
    {
     "data": {
      "text/plain": [
       "{'acc': [0.8740740661267881,\n",
       "  0.877777772921103,\n",
       "  0.877777772921103,\n",
       "  0.8777777751286825,\n",
       "  0.8777777662983647,\n",
       "  0.8777777685059441,\n",
       "  0.8777777707135236,\n",
       "  0.877777772921103,\n",
       "  0.8777777662983647,\n",
       "  0.8777777707135236,\n",
       "  0.8777777751286825,\n",
       "  0.8777777662983647,\n",
       "  0.8777777707135236,\n",
       "  0.8777777707135236,\n",
       "  0.8777777685059441,\n",
       "  0.877777772921103,\n",
       "  0.877777772921103,\n",
       "  0.8777777751286825,\n",
       "  0.8777777662983647,\n",
       "  0.877777772921103,\n",
       "  0.8777777685059441,\n",
       "  0.8777777751286825,\n",
       "  0.877777772921103,\n",
       "  0.8777777685059441,\n",
       "  0.8777777707135236,\n",
       "  0.8777777707135236,\n",
       "  0.8777777662983647,\n",
       "  0.8777777707135236,\n",
       "  0.8777777685059441,\n",
       "  0.8777777707135236,\n",
       "  0.8777777685059441,\n",
       "  0.877777772921103,\n",
       "  0.8777777685059441,\n",
       "  0.8777777707135236,\n",
       "  0.877777772921103,\n",
       "  0.877777772921103,\n",
       "  0.8777777773362619,\n",
       "  0.8777777707135236,\n",
       "  0.8777777685059441,\n",
       "  0.877777772921103,\n",
       "  0.877777772921103,\n",
       "  0.8777777751286825,\n",
       "  0.8777777751286825,\n",
       "  0.8777777707135236,\n",
       "  0.8777777773362619,\n",
       "  0.877777772921103,\n",
       "  0.8777777662983647,\n",
       "  0.877777772921103,\n",
       "  0.877777772921103,\n",
       "  0.8777777662983647],\n",
       " 'loss': [0.6875365155714529,\n",
       "  0.6738571546695851,\n",
       "  0.6558442755981728,\n",
       "  0.6281701723734537,\n",
       "  0.5959098317005016,\n",
       "  0.5517406684380991,\n",
       "  0.5047695404953427,\n",
       "  0.45992853464903655,\n",
       "  0.421401501805694,\n",
       "  0.386958552731408,\n",
       "  0.36633170313305324,\n",
       "  0.356776073023125,\n",
       "  0.3410029063622157,\n",
       "  0.3300188644616692,\n",
       "  0.3359736662220072,\n",
       "  0.3269764822390344,\n",
       "  0.29977484461334014,\n",
       "  0.3204754055650146,\n",
       "  0.3360321535556405,\n",
       "  0.3182817256009137,\n",
       "  0.3113858410053783,\n",
       "  0.3097211660610305,\n",
       "  0.30164787697571294,\n",
       "  0.30054304417636657,\n",
       "  0.2982307620070599,\n",
       "  0.29950217295576026,\n",
       "  0.28592148230031683,\n",
       "  0.2863038240207566,\n",
       "  0.27696322511743615,\n",
       "  0.2768578340333921,\n",
       "  0.28443729629119235,\n",
       "  0.2625201882587539,\n",
       "  0.26831049582472555,\n",
       "  0.272772467246762,\n",
       "  0.2606755906233081,\n",
       "  0.2583989019471186,\n",
       "  0.24703476715970923,\n",
       "  0.24345861402926622,\n",
       "  0.23633058520930786,\n",
       "  0.2286493713381114,\n",
       "  0.22739967786603504,\n",
       "  0.2130601646171676,\n",
       "  0.22429249711610652,\n",
       "  0.20880635441453368,\n",
       "  0.20292913851638636,\n",
       "  0.18858629520292636,\n",
       "  0.18255219787911134,\n",
       "  0.1730986770104479,\n",
       "  0.1717357407151549,\n",
       "  0.1704987260616488]}"
      ]
     },
     "execution_count": 25,
     "metadata": {},
     "output_type": "execute_result"
    }
   ],
   "source": [
    "hist.history"
   ]
  },
  {
   "cell_type": "code",
   "execution_count": 27,
   "metadata": {},
   "outputs": [
    {
     "name": "stdout",
     "output_type": "stream",
     "text": [
      "0.8777036971074562\n"
     ]
    }
   ],
   "source": [
    "#average accuracy\n",
    "mean = np.mean(hist.history['acc'])\n",
    "print(mean)"
   ]
  },
  {
   "cell_type": "code",
   "execution_count": null,
   "metadata": {
    "collapsed": true
   },
   "outputs": [],
   "source": []
  }
 ],
 "metadata": {
  "kernelspec": {
   "display_name": "Python 3",
   "language": "python",
   "name": "python3"
  },
  "language_info": {
   "codemirror_mode": {
    "name": "ipython",
    "version": 2
   },
   "file_extension": ".py",
   "mimetype": "text/x-python",
   "name": "python",
   "nbconvert_exporter": "python",
   "pygments_lexer": "ipython2",
   "version": "2.7.12"
  }
 },
 "nbformat": 4,
 "nbformat_minor": 2
}
